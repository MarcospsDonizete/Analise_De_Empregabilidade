{
 "cells": [
  {
   "cell_type": "code",
   "execution_count": 121,
   "metadata": {},
   "outputs": [],
   "source": [
    "import glob \n",
    "import pandas as pd \n",
    "import numpy as np\n",
    "import math\n",
    "jan2020 = pd.read_csv(\"./caged/CAGEDMOV202001.txt\",delimiter=';', encoding='utf-8')\n",
    "dic = pd.read_csv(\"./caged/legenda.txt\",delimiter=';', encoding='utf-8')"
   ]
  },
  {
   "cell_type": "code",
   "execution_count": 123,
   "metadata": {},
   "outputs": [],
   "source": [
    "def arrumaDb(db,leg):\n",
    "    listaNomesDb = []\n",
    "    listaNomesLeg = []\n",
    "    dic = {}\n",
    "    listaCodFica= []\n",
    "    for x in range(len(leg[\"codmunicípio\"])):\n",
    "        listaCodFica.append(leg[\"codmunicípio\"][x])\n",
    "    db = db.where((db[\"município\"]).isin(listaCodFica)).dropna()\n",
    "    db = db.drop(columns=['região','uf','subclasse','saldomovimentação','cbo2002ocupação','categoria','tipoestabelecimento','tipodedeficiência','indtrabintermitente','horascontratuais','tamestabjan','indicadoraprendiz','fonte','competência','indtrabparcial'])\n",
    "    \n",
    "    for name in leg.columns:\n",
    "        listaNomesLeg.append(name)\n",
    "    \n",
    "    for name in db.columns:\n",
    "        listaNomesDb.append(name)\n",
    "    \n",
    "    for k in range(0,len(leg.columns),2):\n",
    "        dic = {}\n",
    "        for i in range(len(leg)):\n",
    "            if (leg.notna()[listaNomesLeg[k]][i]):\n",
    "                dic[leg[listaNomesLeg[k]][i]]=leg[listaNomesLeg[k+1]][i]\n",
    "        try:\n",
    "            db[listaNomesLeg[k+1]]=db[listaNomesLeg[k+1]].map(dic)\n",
    "        except:\n",
    "            print(sys.exc_info()[0])\n",
    "     \n",
    "    return db"
   ]
  },
  {
   "cell_type": "code",
   "execution_count": 124,
   "metadata": {},
   "outputs": [],
   "source": [
    "jan2020 = arrumaDb(jan2020, dic)"
   ]
  },
  {
   "cell_type": "code",
   "execution_count": 125,
   "metadata": {},
   "outputs": [],
   "source": [
    "admi = jan2020.query('tipomovimentação==\"Admissão\"')['tipomovimentação'].count()\n",
    "desl = jan2020.query('tipomovimentação==\"Desligamento\"')['tipomovimentação'].count()\n",
    "NI = jan2020.query('tipomovimentação==\"Não Identificado\"')['tipomovimentação'].count()"
   ]
  },
  {
   "cell_type": "code",
   "execution_count": 126,
   "metadata": {},
   "outputs": [
    {
     "data": {
      "text/plain": [
       "18545"
      ]
     },
     "execution_count": 126,
     "metadata": {},
     "output_type": "execute_result"
    }
   ],
   "source": [
    "admi"
   ]
  },
  {
   "cell_type": "code",
   "execution_count": 127,
   "metadata": {},
   "outputs": [
    {
     "data": {
      "text/plain": [
       "18033"
      ]
     },
     "execution_count": 127,
     "metadata": {},
     "output_type": "execute_result"
    }
   ],
   "source": [
    "desl"
   ]
  },
  {
   "cell_type": "code",
   "execution_count": 128,
   "metadata": {},
   "outputs": [
    {
     "data": {
      "text/plain": [
       "75"
      ]
     },
     "execution_count": 128,
     "metadata": {},
     "output_type": "execute_result"
    }
   ],
   "source": [
    "NI"
   ]
  },
  {
   "cell_type": "code",
   "execution_count": null,
   "metadata": {},
   "outputs": [],
   "source": []
  }
 ],
 "metadata": {
  "kernelspec": {
   "display_name": "Python 3",
   "language": "python",
   "name": "python3"
  },
  "language_info": {
   "codemirror_mode": {
    "name": "ipython",
    "version": 3
   },
   "file_extension": ".py",
   "mimetype": "text/x-python",
   "name": "python",
   "nbconvert_exporter": "python",
   "pygments_lexer": "ipython3",
   "version": "3.9.2"
  }
 },
 "nbformat": 4,
 "nbformat_minor": 4
}
